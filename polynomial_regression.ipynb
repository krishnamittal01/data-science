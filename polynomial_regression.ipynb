{
  "nbformat": 4,
  "nbformat_minor": 0,
  "metadata": {
    "colab": {
      "provenance": [],
      "authorship_tag": "ABX9TyOlUYX9XZTzFBqGllJA8JQT",
      "include_colab_link": true
    },
    "kernelspec": {
      "name": "python3",
      "display_name": "Python 3"
    },
    "language_info": {
      "name": "python"
    }
  },
  "cells": [
    {
      "cell_type": "markdown",
      "metadata": {
        "id": "view-in-github",
        "colab_type": "text"
      },
      "source": [
        "<a href=\"https://colab.research.google.com/github/krishnamittal01/data-science/blob/main/polynomial_regression.ipynb\" target=\"_parent\"><img src=\"https://colab.research.google.com/assets/colab-badge.svg\" alt=\"Open In Colab\"/></a>"
      ]
    },
    {
      "cell_type": "code",
      "execution_count": 18,
      "metadata": {
        "id": "7KpA1tsSHfCP"
      },
      "outputs": [],
      "source": [
        "import pandas as pd\n",
        "import numpy as np\n",
        "import matplotlib.pyplot as plt\n",
        "%matplotlib inline"
      ]
    },
    {
      "cell_type": "code",
      "source": [
        "X= 6*np.random.rand(100,1)-3\n",
        "y=0.5*X**2 +1.5*X + np.random.rand(100,1)\n",
        "\n",
        "##Quardratic Equation used - y=0.5X^2 +1.5x +2 +outliers\n",
        "plt.scatter(X,y,color='g')\n",
        "plt.xlabel('X dataset')\n",
        "plt.ylabel('Y dataset')"
      ],
      "metadata": {
        "colab": {
          "base_uri": "https://localhost:8080/",
          "height": 470
        },
        "id": "7qPxDVTwfu5t",
        "outputId": "e52ba252-6296-4348-e6c4-f35460acf0af"
      },
      "execution_count": 19,
      "outputs": [
        {
          "output_type": "execute_result",
          "data": {
            "text/plain": [
              "Text(0, 0.5, 'Y dataset')"
            ]
          },
          "metadata": {},
          "execution_count": 19
        },
        {
          "output_type": "display_data",
          "data": {
            "text/plain": [
              "<Figure size 640x480 with 1 Axes>"
            ],
            "image/png": "[encoded data removed]"
          },
          "metadata": {}
        }
      ]
    },
    {
      "cell_type": "code",
      "source": [
        "from sklearn.model_selection import train_test_split\n",
        "X_train,X_test,y_train,y_test=train_test_split(X,y,test_size=0.25,random_state=0)"
      ],
      "metadata": {
        "id": "pX-XEeTaihdB"
      },
      "execution_count": 20,
      "outputs": []
    },
    {
      "cell_type": "code",
      "source": [
        "### lets implemembt simple linear regression\n",
        "\n",
        "from sklearn.linear_model import LinearRegression\n",
        "regression=LinearRegression()\n",
        "regression.fit(X_train,y_train)"
      ],
      "metadata": {
        "colab": {
          "base_uri": "https://localhost:8080/",
          "height": 80
        },
        "id": "17HpwDK6j_Bf",
        "outputId": "114863ae-650b-46d4-9d25-fe3ed1c7dcff"
      },
      "execution_count": 21,
      "outputs": [
        {
          "output_type": "execute_result",
          "data": {
            "text/plain": [
              "LinearRegression()"
            ],
            "text/html": [
              "<style>#sk-container-id-3 {\n",
              "  /* Definition of color scheme common for light and dark mode */\n",
              "  --sklearn-color-text: #000;\n",
              "  --sklearn-color-text-muted: #666;\n",
              "  --sklearn-color-line: gray;\n",
              "  /* Definition of color scheme for unfitted estimators */\n",
              "  --sklearn-color-unfitted-level-0: #fff5e6;\n",
              "  --sklearn-color-unfitted-level-1: #f6e4d2;\n",
              "  --sklearn-color-unfitted-level-2: #ffe0b3;\n",
              "  --sklearn-color-unfitted-level-3: chocolate;\n",
              "  /* Definition of color scheme for fitted estimators */\n",
              "  --sklearn-color-fitted-level-0: #f0f8ff;\n",
              "  --sklearn-color-fitted-level-1: #d4ebff;\n",
              "  --sklearn-color-fitted-level-2: #b3dbfd;\n",
              "  --sklearn-color-fitted-level-3: cornflowerblue;\n",
              "\n",
              "  /* Specific color for light theme */\n",
              "  --sklearn-color-text-on-default-background: var(--sg-text-color, var(--theme-code-foreground, var(--jp-content-font-color1, black)));\n",
              "  --sklearn-color-background: var(--sg-background-color, var(--theme-background, var(--jp-layout-color0, white)));\n",
              "  --sklearn-color-border-box: var(--sg-text-color, var(--theme-code-foreground, var(--jp-content-font-color1, black)));\n",
              "  --sklearn-color-icon: #696969;\n",
              "\n",
              "  @media (prefers-color-scheme: dark) {\n",
              "    /* Redefinition of color scheme for dark theme */\n",
              "    --sklearn-color-text-on-default-background: var(--sg-text-color, var(--theme-code-foreground, var(--jp-content-font-color1, white)));\n",
              "    --sklearn-color-background: var(--sg-background-color, var(--theme-background, var(--jp-layout-color0, #111)));\n",
              "    --sklearn-color-border-box: var(--sg-text-color, var(--theme-code-foreground, var(--jp-content-font-color1, white)));\n",
              "    --sklearn-color-icon: #878787;\n",
              "  }\n",
              "}\n",
              "\n",
              "#sk-container-id-3 {\n",
              "  color: var(--sklearn-color-text);\n",
              "}\n",
              "\n",
              "#sk-container-id-3 pre {\n",
              "  padding: 0;\n",
              "}\n",
              "\n",
              "#sk-container-id-3 input.sk-hidden--visually {\n",
              "  border: 0;\n",
              "  clip: rect(1px 1px 1px 1px);\n",
              "  clip: rect(1px, 1px, 1px, 1px);\n",
              "  height: 1px;\n",
              "  margin: -1px;\n",
              "  overflow: hidden;\n",
              "  padding: 0;\n",
              "  position: absolute;\n",
              "  width: 1px;\n",
              "}\n",
              "\n",
              "#sk-container-id-3 div.sk-dashed-wrapped {\n",
              "  border: 1px dashed var(--sklearn-color-line);\n",
              "  margin: 0 0.4em 0.5em 0.4em;\n",
              "  box-sizing: border-box;\n",
              "  padding-bottom: 0.4em;\n",
              "  background-color: var(--sklearn-color-background);\n",
              "}\n",
              "\n",
              "#sk-container-id-3 div.sk-container {\n",
              "  /* jupyter's `normalize.less` sets `[hidden] { display: none; }`\n",
              "     but bootstrap.min.css set `[hidden] { display: none !important; }`\n",
              "     so we also need the `!important` here to be able to override the\n",
              "     default hidden behavior on the sphinx rendered scikit-learn.org.\n",
              "     See: https://github.com/scikit-learn/scikit-learn/issues/21755 */\n",
              "  display: inline-block !important;\n",
              "  position: relative;\n",
              "}\n",
              "\n",
              "#sk-container-id-3 div.sk-text-repr-fallback {\n",
              "  display: none;\n",
              "}\n",
              "\n",
              "div.sk-parallel-item,\n",
              "div.sk-serial,\n",
              "div.sk-item {\n",
              "  /* draw centered vertical line to link estimators */\n",
              "  background-image: linear-gradient(var(--sklearn-color-text-on-default-background), var(--sklearn-color-text-on-default-background));\n",
              "  background-size: 2px 100%;\n",
              "  background-repeat: no-repeat;\n",
              "  background-position: center center;\n",
              "}\n",
              "\n",
              "/* Parallel-specific style estimator block */\n",
              "\n",
              "#sk-container-id-3 div.sk-parallel-item::after {\n",
              "  content: \"\";\n",
              "  width: 100%;\n",
              "  border-bottom: 2px solid var(--sklearn-color-text-on-default-background);\n",
              "  flex-grow: 1;\n",
              "}\n",
              "\n",
              "#sk-container-id-3 div.sk-parallel {\n",
              "  display: flex;\n",
              "  align-items: stretch;\n",
              "  justify-content: center;\n",
              "  background-color: var(--sklearn-color-background);\n",
              "  position: relative;\n",
              "}\n",
              "\n",
              "#sk-container-id-3 div.sk-parallel-item {\n",
              "  display: flex;\n",
              "  flex-direction: column;\n",
              "}\n",
              "\n",
              "#sk-container-id-3 div.sk-parallel-item:first-child::after {\n",
              "  align-self: flex-end;\n",
              "  width: 50%;\n",
              "}\n",
              "\n",
              "#sk-container-id-3 div.sk-parallel-item:last-child::after {\n",
              "  align-self: flex-start;\n",
              "  width: 50%;\n",
              "}\n",
              "\n",
              "#sk-container-id-3 div.sk-parallel-item:only-child::after {\n",
              "  width: 0;\n",
              "}\n",
              "\n",
              "/* Serial-specific style estimator block */\n",
              "\n",
              "#sk-container-id-3 div.sk-serial {\n",
              "  display: flex;\n",
              "  flex-direction: column;\n",
              "  align-items: center;\n",
              "  background-color: var(--sklearn-color-background);\n",
              "  padding-right: 1em;\n",
              "  padding-left: 1em;\n",
              "}\n",
              "\n",
              "\n",
              "/* Toggleable style: style used for estimator/Pipeline/ColumnTransformer box that is\n",
              "clickable and can be expanded/collapsed.\n",
              "- Pipeline and ColumnTransformer use this feature and define the default style\n",
              "- Estimators will overwrite some part of the style using the `sk-estimator` class\n",
              "*/\n",
              "\n",
              "/* Pipeline and ColumnTransformer style (default) */\n",
              "\n",
              "#sk-container-id-3 div.sk-toggleable {\n",
              "  /* Default theme specific background. It is overwritten whether we have a\n",
              "  specific estimator or a Pipeline/ColumnTransformer */\n",
              "  background-color: var(--sklearn-color-background);\n",
              "}\n",
              "\n",
              "/* Toggleable label */\n",
              "#sk-container-id-3 label.sk-toggleable__label {\n",
              "  cursor: pointer;\n",
              "  display: flex;\n",
              "  width: 100%;\n",
              "  margin-bottom: 0;\n",
              "  padding: 0.5em;\n",
              "  box-sizing: border-box;\n",
              "  text-align: center;\n",
              "  align-items: start;\n",
              "  justify-content: space-between;\n",
              "  gap: 0.5em;\n",
              "}\n",
              "\n",
              "#sk-container-id-3 label.sk-toggleable__label .caption {\n",
              "  font-size: 0.6rem;\n",
              "  font-weight: lighter;\n",
              "  color: var(--sklearn-color-text-muted);\n",
              "}\n",
              "\n",
              "#sk-container-id-3 label.sk-toggleable__label-arrow:before {\n",
              "  /* Arrow on the left of the label */\n",
              "  content: \"▸\";\n",
              "  float: left;\n",
              "  margin-right: 0.25em;\n",
              "  color: var(--sklearn-color-icon);\n",
              "}\n",
              "\n",
              "#sk-container-id-3 label.sk-toggleable__label-arrow:hover:before {\n",
              "  color: var(--sklearn-color-text);\n",
              "}\n",
              "\n",
              "/* Toggleable content - dropdown */\n",
              "\n",
              "#sk-container-id-3 div.sk-toggleable__content {\n",
              "  max-height: 0;\n",
              "  max-width: 0;\n",
              "  overflow: hidden;\n",
              "  text-align: left;\n",
              "  /* unfitted */\n",
              "  background-color: var(--sklearn-color-unfitted-level-0);\n",
              "}\n",
              "\n",
              "#sk-container-id-3 div.sk-toggleable__content.fitted {\n",
              "  /* fitted */\n",
              "  background-color: var(--sklearn-color-fitted-level-0);\n",
              "}\n",
              "\n",
              "#sk-container-id-3 div.sk-toggleable__content pre {\n",
              "  margin: 0.2em;\n",
              "  border-radius: 0.25em;\n",
              "  color: var(--sklearn-color-text);\n",
              "  /* unfitted */\n",
              "  background-color: var(--sklearn-color-unfitted-level-0);\n",
              "}\n",
              "\n",
              "#sk-container-id-3 div.sk-toggleable__content.fitted pre {\n",
              "  /* unfitted */\n",
              "  background-color: var(--sklearn-color-fitted-level-0);\n",
              "}\n",
              "\n",
              "#sk-container-id-3 input.sk-toggleable__control:checked~div.sk-toggleable__content {\n",
              "  /* Expand drop-down */\n",
              "  max-height: 200px;\n",
              "  max-width: 100%;\n",
              "  overflow: auto;\n",
              "}\n",
              "\n",
              "#sk-container-id-3 input.sk-toggleable__control:checked~label.sk-toggleable__label-arrow:before {\n",
              "  content: \"▾\";\n",
              "}\n",
              "\n",
              "/* Pipeline/ColumnTransformer-specific style */\n",
              "\n",
              "#sk-container-id-3 div.sk-label input.sk-toggleable__control:checked~label.sk-toggleable__label {\n",
              "  color: var(--sklearn-color-text);\n",
              "  background-color: var(--sklearn-color-unfitted-level-2);\n",
              "}\n",
              "\n",
              "#sk-container-id-3 div.sk-label.fitted input.sk-toggleable__control:checked~label.sk-toggleable__label {\n",
              "  background-color: var(--sklearn-color-fitted-level-2);\n",
              "}\n",
              "\n",
              "/* Estimator-specific style */\n",
              "\n",
              "/* Colorize estimator box */\n",
              "#sk-container-id-3 div.sk-estimator input.sk-toggleable__control:checked~label.sk-toggleable__label {\n",
              "  /* unfitted */\n",
              "  background-color: var(--sklearn-color-unfitted-level-2);\n",
              "}\n",
              "\n",
              "#sk-container-id-3 div.sk-estimator.fitted input.sk-toggleable__control:checked~label.sk-toggleable__label {\n",
              "  /* fitted */\n",
              "  background-color: var(--sklearn-color-fitted-level-2);\n",
              "}\n",
              "\n",
              "#sk-container-id-3 div.sk-label label.sk-toggleable__label,\n",
              "#sk-container-id-3 div.sk-label label {\n",
              "  /* The background is the default theme color */\n",
              "  color: var(--sklearn-color-text-on-default-background);\n",
              "}\n",
              "\n",
              "/* On hover, darken the color of the background */\n",
              "#sk-container-id-3 div.sk-label:hover label.sk-toggleable__label {\n",
              "  color: var(--sklearn-color-text);\n",
              "  background-color: var(--sklearn-color-unfitted-level-2);\n",
              "}\n",
              "\n",
              "/* Label box, darken color on hover, fitted */\n",
              "#sk-container-id-3 div.sk-label.fitted:hover label.sk-toggleable__label.fitted {\n",
              "  color: var(--sklearn-color-text);\n",
              "  background-color: var(--sklearn-color-fitted-level-2);\n",
              "}\n",
              "\n",
              "/* Estimator label */\n",
              "\n",
              "#sk-container-id-3 div.sk-label label {\n",
              "  font-family: monospace;\n",
              "  font-weight: bold;\n",
              "  display: inline-block;\n",
              "  line-height: 1.2em;\n",
              "}\n",
              "\n",
              "#sk-container-id-3 div.sk-label-container {\n",
              "  text-align: center;\n",
              "}\n",
              "\n",
              "/* Estimator-specific */\n",
              "#sk-container-id-3 div.sk-estimator {\n",
              "  font-family: monospace;\n",
              "  border: 1px dotted var(--sklearn-color-border-box);\n",
              "  border-radius: 0.25em;\n",
              "  box-sizing: border-box;\n",
              "  margin-bottom: 0.5em;\n",
              "  /* unfitted */\n",
              "  background-color: var(--sklearn-color-unfitted-level-0);\n",
              "}\n",
              "\n",
              "#sk-container-id-3 div.sk-estimator.fitted {\n",
              "  /* fitted */\n",
              "  background-color: var(--sklearn-color-fitted-level-0);\n",
              "}\n",
              "\n",
              "/* on hover */\n",
              "#sk-container-id-3 div.sk-estimator:hover {\n",
              "  /* unfitted */\n",
              "  background-color: var(--sklearn-color-unfitted-level-2);\n",
              "}\n",
              "\n",
              "#sk-container-id-3 div.sk-estimator.fitted:hover {\n",
              "  /* fitted */\n",
              "  background-color: var(--sklearn-color-fitted-level-2);\n",
              "}\n",
              "\n",
              "/* Specification for estimator info (e.g. \"i\" and \"?\") */\n",
              "\n",
              "/* Common style for \"i\" and \"?\" */\n",
              "\n",
              ".sk-estimator-doc-link,\n",
              "a:link.sk-estimator-doc-link,\n",
              "a:visited.sk-estimator-doc-link {\n",
              "  float: right;\n",
              "  font-size: smaller;\n",
              "  line-height: 1em;\n",
              "  font-family: monospace;\n",
              "  background-color: var(--sklearn-color-background);\n",
              "  border-radius: 1em;\n",
              "  height: 1em;\n",
              "  width: 1em;\n",
              "  text-decoration: none !important;\n",
              "  margin-left: 0.5em;\n",
              "  text-align: center;\n",
              "  /* unfitted */\n",
              "  border: var(--sklearn-color-unfitted-level-1) 1pt solid;\n",
              "  color: var(--sklearn-color-unfitted-level-1);\n",
              "}\n",
              "\n",
              ".sk-estimator-doc-link.fitted,\n",
              "a:link.sk-estimator-doc-link.fitted,\n",
              "a:visited.sk-estimator-doc-link.fitted {\n",
              "  /* fitted */\n",
              "  border: var(--sklearn-color-fitted-level-1) 1pt solid;\n",
              "  color: var(--sklearn-color-fitted-level-1);\n",
              "}\n",
              "\n",
              "/* On hover */\n",
              "div.sk-estimator:hover .sk-estimator-doc-link:hover,\n",
              ".sk-estimator-doc-link:hover,\n",
              "div.sk-label-container:hover .sk-estimator-doc-link:hover,\n",
              ".sk-estimator-doc-link:hover {\n",
              "  /* unfitted */\n",
              "  background-color: var(--sklearn-color-unfitted-level-3);\n",
              "  color: var(--sklearn-color-background);\n",
              "  text-decoration: none;\n",
              "}\n",
              "\n",
              "div.sk-estimator.fitted:hover .sk-estimator-doc-link.fitted:hover,\n",
              ".sk-estimator-doc-link.fitted:hover,\n",
              "div.sk-label-container:hover .sk-estimator-doc-link.fitted:hover,\n",
              ".sk-estimator-doc-link.fitted:hover {\n",
              "  /* fitted */\n",
              "  background-color: var(--sklearn-color-fitted-level-3);\n",
              "  color: var(--sklearn-color-background);\n",
              "  text-decoration: none;\n",
              "}\n",
              "\n",
              "/* Span, style for the box shown on hovering the info icon */\n",
              ".sk-estimator-doc-link span {\n",
              "  display: none;\n",
              "  z-index: 9999;\n",
              "  position: relative;\n",
              "  font-weight: normal;\n",
              "  right: .2ex;\n",
              "  padding: .5ex;\n",
              "  margin: .5ex;\n",
              "  width: min-content;\n",
              "  min-width: 20ex;\n",
              "  max-width: 50ex;\n",
              "  color: var(--sklearn-color-text);\n",
              "  box-shadow: 2pt 2pt 4pt #999;\n",
              "  /* unfitted */\n",
              "  background: var(--sklearn-color-unfitted-level-0);\n",
              "  border: .5pt solid var(--sklearn-color-unfitted-level-3);\n",
              "}\n",
              "\n",
              ".sk-estimator-doc-link.fitted span {\n",
              "  /* fitted */\n",
              "  background: var(--sklearn-color-fitted-level-0);\n",
              "  border: var(--sklearn-color-fitted-level-3);\n",
              "}\n",
              "\n",
              ".sk-estimator-doc-link:hover span {\n",
              "  display: block;\n",
              "}\n",
              "\n",
              "/* \"?\"-specific style due to the `<a>` HTML tag */\n",
              "\n",
              "#sk-container-id-3 a.estimator_doc_link {\n",
              "  float: right;\n",
              "  font-size: 1rem;\n",
              "  line-height: 1em;\n",
              "  font-family: monospace;\n",
              "  background-color: var(--sklearn-color-background);\n",
              "  border-radius: 1rem;\n",
              "  height: 1rem;\n",
              "  width: 1rem;\n",
              "  text-decoration: none;\n",
              "  /* unfitted */\n",
              "  color: var(--sklearn-color-unfitted-level-1);\n",
              "  border: var(--sklearn-color-unfitted-level-1) 1pt solid;\n",
              "}\n",
              "\n",
              "#sk-container-id-3 a.estimator_doc_link.fitted {\n",
              "  /* fitted */\n",
              "  border: var(--sklearn-color-fitted-level-1) 1pt solid;\n",
              "  color: var(--sklearn-color-fitted-level-1);\n",
              "}\n",
              "\n",
              "/* On hover */\n",
              "#sk-container-id-3 a.estimator_doc_link:hover {\n",
              "  /* unfitted */\n",
              "  background-color: var(--sklearn-color-unfitted-level-3);\n",
              "  color: var(--sklearn-color-background);\n",
              "  text-decoration: none;\n",
              "}\n",
              "\n",
              "#sk-container-id-3 a.estimator_doc_link.fitted:hover {\n",
              "  /* fitted */\n",
              "  background-color: var(--sklearn-color-fitted-level-3);\n",
              "}\n",
              "</style><div id=\"sk-container-id-3\" class=\"sk-top-container\"><div class=\"sk-text-repr-fallback\"><pre>LinearRegression()</pre><b>In a Jupyter environment, please rerun this cell to show the HTML representation or trust the notebook. <br />On GitHub, the HTML representation is unable to render, please try loading this page with nbviewer.org.</b></div><div class=\"sk-container\" hidden><div class=\"sk-item\"><div class=\"sk-estimator fitted sk-toggleable\"><input class=\"sk-toggleable__control sk-hidden--visually\" id=\"sk-estimator-id-3\" type=\"checkbox\" checked><label for=\"sk-estimator-id-3\" class=\"sk-toggleable__label fitted sk-toggleable__label-arrow\"><div><div>LinearRegression</div></div><div><a class=\"sk-estimator-doc-link fitted\" rel=\"noreferrer\" target=\"_blank\" href=\"https://scikit-learn.org/1.6/modules/generated/sklearn.linear_model.LinearRegression.html\">?<span>Documentation for LinearRegression</span></a><span class=\"sk-estimator-doc-link fitted\">i<span>Fitted</span></span></div></label><div class=\"sk-toggleable__content fitted\"><pre>LinearRegression()</pre></div> </div></div></div></div>"
            ]
          },
          "metadata": {},
          "execution_count": 21
        }
      ]
    },
    {
      "cell_type": "code",
      "source": [
        "from sklearn.metrics import r2_score\n",
        "score=r2_score(y_test,regression.predict(X_test))"
      ],
      "metadata": {
        "id": "A2y-8hUJkWE_"
      },
      "execution_count": 22,
      "outputs": []
    },
    {
      "cell_type": "code",
      "source": [
        "print(score)"
      ],
      "metadata": {
        "colab": {
          "base_uri": "https://localhost:8080/"
        },
        "id": "Qxm1EQGGr--S",
        "outputId": "800f56a2-e109-4498-c70a-ffb1ae8b5d51"
      },
      "execution_count": 23,
      "outputs": [
        {
          "output_type": "stream",
          "name": "stdout",
          "text": [
            "0.7543491589723392\n"
          ]
        }
      ]
    },
    {
      "cell_type": "code",
      "source": [
        "### lets vizualize this model\n",
        "plt.plot(X_train,regression.predict(X_train),color='r')\n",
        "plt.scatter(X_train,y_train)\n",
        "plt.xlabel(\"X Dataset\")\n",
        "plt.ylabel(\"Y Dataset\")\n"
      ],
      "metadata": {
        "colab": {
          "base_uri": "https://localhost:8080/",
          "height": 469
        },
        "id": "819yTsrpsAnI",
        "outputId": "43354f06-672e-42bf-9d33-a828eefce319"
      },
      "execution_count": 25,
      "outputs": [
        {
          "output_type": "execute_result",
          "data": {
            "text/plain": [
              "Text(0, 0.5, 'Y Dataset')"
            ]
          },
          "metadata": {},
          "execution_count": 25
        },
        {
          "output_type": "display_data",
          "data": {
            "text/plain": [
              "<Figure size 640x480 with 1 Axes>"
            ],
            "image/png": "[encoded data removed]"
          },
          "metadata": {}
        }
      ]
    },
    {
      "cell_type": "code",
      "source": [
        "### now the best fit line we get is not suitable and so now we'll overcome through this problem by using polynomial dataset\n",
        "## NOW WE'LL APPLY POLYNOMIAL TRANSFORMATION\n",
        "\n"
      ],
      "metadata": {
        "id": "fm03q2dr6ato"
      },
      "execution_count": 27,
      "outputs": []
    },
    {
      "cell_type": "code",
      "source": [
        "from sklearn.preprocessing import PolynomialFeatures\n",
        "poly=PolynomialFeatures(degree=2,include_bias=True)\n",
        "X_train_poly=poly.fit_transform(X_train)\n",
        "X_test_poly=poly.transform(X_test)\n"
      ],
      "metadata": {
        "id": "uZxLdv7v7E46"
      },
      "execution_count": 31,
      "outputs": []
    },
    {
      "cell_type": "code",
      "source": [
        "X_train_poly"
      ],
      "metadata": {
        "colab": {
          "base_uri": "https://localhost:8080/"
        },
        "id": "Rxc5UWiX9Mgy",
        "outputId": "1a064f5e-cb85-4ef5-d325-f9f05afbd559"
      },
      "execution_count": 32,
      "outputs": [
        {
          "output_type": "execute_result",
          "data": {
            "text/plain": [
              "array([[ 1.00000000e+00,  2.37470296e+00,  5.63921416e+00],\n",
              "       [ 1.00000000e+00,  2.16700565e+00,  4.69591347e+00],\n",
              "       [ 1.00000000e+00,  8.89103190e-01,  7.90504483e-01],\n",
              "       [ 1.00000000e+00, -1.08804329e+00,  1.18383820e+00],\n",
              "       [ 1.00000000e+00,  1.11525700e+00,  1.24379817e+00],\n",
              "       [ 1.00000000e+00,  1.14924824e+00,  1.32077152e+00],\n",
              "       [ 1.00000000e+00, -2.78842090e+00,  7.77529109e+00],\n",
              "       [ 1.00000000e+00,  3.98910298e-01,  1.59129426e-01],\n",
              "       [ 1.00000000e+00,  1.67991579e-01,  2.82211706e-02],\n",
              "       [ 1.00000000e+00,  2.04375580e+00,  4.17693779e+00],\n",
              "       [ 1.00000000e+00, -2.09237767e-01,  4.37804431e-02],\n",
              "       [ 1.00000000e+00, -2.99153151e-02,  8.94926077e-04],\n",
              "       [ 1.00000000e+00, -2.27986594e+00,  5.19778872e+00],\n",
              "       [ 1.00000000e+00, -1.37860808e+00,  1.90056023e+00],\n",
              "       [ 1.00000000e+00, -1.98852347e+00,  3.95422559e+00],\n",
              "       [ 1.00000000e+00,  6.75411793e-01,  4.56181090e-01],\n",
              "       [ 1.00000000e+00, -2.91482606e+00,  8.49621098e+00],\n",
              "       [ 1.00000000e+00,  2.69267869e+00,  7.25051853e+00],\n",
              "       [ 1.00000000e+00, -2.16108177e+00,  4.67027442e+00],\n",
              "       [ 1.00000000e+00,  2.81529481e+00,  7.92588485e+00],\n",
              "       [ 1.00000000e+00,  2.56875785e+00,  6.59851691e+00],\n",
              "       [ 1.00000000e+00,  7.16478704e-01,  5.13341733e-01],\n",
              "       [ 1.00000000e+00, -1.80632344e+00,  3.26280437e+00],\n",
              "       [ 1.00000000e+00,  2.00116705e+00,  4.00466956e+00],\n",
              "       [ 1.00000000e+00,  2.53617552e+00,  6.43218626e+00],\n",
              "       [ 1.00000000e+00, -2.61958203e+00,  6.86220999e+00],\n",
              "       [ 1.00000000e+00, -1.76540444e+00,  3.11665284e+00],\n",
              "       [ 1.00000000e+00, -2.09968768e+00,  4.40868835e+00],\n",
              "       [ 1.00000000e+00, -1.70276979e+00,  2.89942496e+00],\n",
              "       [ 1.00000000e+00,  1.70573280e+00,  2.90952439e+00],\n",
              "       [ 1.00000000e+00, -2.03154446e+00,  4.12717290e+00],\n",
              "       [ 1.00000000e+00, -2.31632779e+00,  5.36537441e+00],\n",
              "       [ 1.00000000e+00,  2.47000023e+00,  6.10090112e+00],\n",
              "       [ 1.00000000e+00, -1.02762368e+00,  1.05601042e+00],\n",
              "       [ 1.00000000e+00, -1.90079726e+00,  3.61303023e+00],\n",
              "       [ 1.00000000e+00, -1.12207873e+00,  1.25906068e+00],\n",
              "       [ 1.00000000e+00,  1.53167451e+00,  2.34602680e+00],\n",
              "       [ 1.00000000e+00, -4.22227258e-01,  1.78275858e-01],\n",
              "       [ 1.00000000e+00,  1.52818191e+00,  2.33533995e+00],\n",
              "       [ 1.00000000e+00, -1.99493027e+00,  3.97974678e+00],\n",
              "       [ 1.00000000e+00, -4.86389329e-01,  2.36574579e-01],\n",
              "       [ 1.00000000e+00,  2.68494130e+00,  7.20890979e+00],\n",
              "       [ 1.00000000e+00, -1.74919127e-02,  3.05967010e-04],\n",
              "       [ 1.00000000e+00, -9.91596626e-01,  9.83263870e-01],\n",
              "       [ 1.00000000e+00,  2.98981369e+00,  8.93898588e+00],\n",
              "       [ 1.00000000e+00, -2.03453397e+00,  4.13932847e+00],\n",
              "       [ 1.00000000e+00,  3.76154129e-01,  1.41491929e-01],\n",
              "       [ 1.00000000e+00, -2.79650520e+00,  7.82044136e+00],\n",
              "       [ 1.00000000e+00, -6.20242580e-01,  3.84700858e-01],\n",
              "       [ 1.00000000e+00,  1.80153126e+00,  3.24551487e+00],\n",
              "       [ 1.00000000e+00,  2.24061962e+00,  5.02037627e+00],\n",
              "       [ 1.00000000e+00,  1.96486838e+00,  3.86070776e+00],\n",
              "       [ 1.00000000e+00, -1.89613516e+00,  3.59532856e+00],\n",
              "       [ 1.00000000e+00,  2.43079756e+00,  5.90877677e+00],\n",
              "       [ 1.00000000e+00,  1.48600428e-01,  2.20820871e-02],\n",
              "       [ 1.00000000e+00, -1.75983847e+00,  3.09703144e+00],\n",
              "       [ 1.00000000e+00,  2.03886058e+00,  4.15695246e+00],\n",
              "       [ 1.00000000e+00, -2.60370838e+00,  6.77929734e+00],\n",
              "       [ 1.00000000e+00,  4.90663619e-01,  2.40750787e-01],\n",
              "       [ 1.00000000e+00,  1.00481655e+00,  1.00965630e+00],\n",
              "       [ 1.00000000e+00,  1.48449303e+00,  2.20371956e+00],\n",
              "       [ 1.00000000e+00, -2.64533125e+00,  6.99777740e+00],\n",
              "       [ 1.00000000e+00,  1.70029541e-01,  2.89100448e-02],\n",
              "       [ 1.00000000e+00,  2.56371274e+00,  6.57262300e+00],\n",
              "       [ 1.00000000e+00, -2.86207878e+00,  8.19149494e+00],\n",
              "       [ 1.00000000e+00,  2.45377276e+00,  6.02100075e+00],\n",
              "       [ 1.00000000e+00,  4.28898761e-01,  1.83954147e-01],\n",
              "       [ 1.00000000e+00, -2.80206260e+00,  7.85155480e+00],\n",
              "       [ 1.00000000e+00,  6.14865523e-01,  3.78059611e-01],\n",
              "       [ 1.00000000e+00,  9.06008393e-02,  8.20851208e-03],\n",
              "       [ 1.00000000e+00,  9.99997799e-01,  9.99995598e-01],\n",
              "       [ 1.00000000e+00,  2.78254455e+00,  7.74255417e+00],\n",
              "       [ 1.00000000e+00, -8.09424445e-01,  6.55167932e-01],\n",
              "       [ 1.00000000e+00,  7.49290035e-01,  5.61435556e-01],\n",
              "       [ 1.00000000e+00,  2.29047637e+00,  5.24628200e+00]])"
            ]
          },
          "metadata": {},
          "execution_count": 32
        }
      ]
    },
    {
      "cell_type": "code",
      "source": [
        "X_test_poly"
      ],
      "metadata": {
        "colab": {
          "base_uri": "https://localhost:8080/"
        },
        "id": "c4EN2mAY-S8v",
        "outputId": "be0ba0b4-6bc0-4abc-f1ca-496a85782c2e"
      },
      "execution_count": 34,
      "outputs": [
        {
          "output_type": "execute_result",
          "data": {
            "text/plain": [
              "array([[ 1.        ,  1.27945734,  1.63701109],\n",
              "       [ 1.        , -0.14113527,  0.01991916],\n",
              "       [ 1.        , -0.5912087 ,  0.34952773],\n",
              "       [ 1.        ,  1.50640466,  2.26925499],\n",
              "       [ 1.        , -0.10476532,  0.01097577],\n",
              "       [ 1.        ,  1.63255175,  2.66522523],\n",
              "       [ 1.        , -0.65341539,  0.42695167],\n",
              "       [ 1.        , -0.98103353,  0.96242679],\n",
              "       [ 1.        ,  0.29046845,  0.08437192],\n",
              "       [ 1.        , -2.83507072,  8.037626  ],\n",
              "       [ 1.        ,  0.69976142,  0.48966604],\n",
              "       [ 1.        ,  2.4378001 ,  5.94286931],\n",
              "       [ 1.        , -1.80635306,  3.26291139],\n",
              "       [ 1.        ,  2.95254539,  8.71752426],\n",
              "       [ 1.        ,  2.44504064,  5.97822373],\n",
              "       [ 1.        , -1.11096267,  1.23423806],\n",
              "       [ 1.        ,  2.03426442,  4.13823172],\n",
              "       [ 1.        ,  0.54435472,  0.29632206],\n",
              "       [ 1.        , -0.12102176,  0.01464627],\n",
              "       [ 1.        , -1.85524748,  3.4419432 ],\n",
              "       [ 1.        ,  0.97934573,  0.95911806],\n",
              "       [ 1.        , -0.48731975,  0.23748054],\n",
              "       [ 1.        , -2.9093672 ,  8.46441748],\n",
              "       [ 1.        , -1.58290149,  2.50557714],\n",
              "       [ 1.        , -2.2411764 ,  5.02287165]])"
            ]
          },
          "metadata": {},
          "execution_count": 34
        }
      ]
    },
    {
      "cell_type": "code",
      "source": [
        "from sklearn.metrics import r2_score\n",
        "regression=LinearRegression()\n",
        "regression.fit(X_train_poly,y_train)\n",
        "y_pred=regression.predict(X_test_poly)\n",
        "score=r2_score(y_test,y_pred)"
      ],
      "metadata": {
        "id": "ViPJCUll-c2y"
      },
      "execution_count": null,
      "outputs": []
    }
  ]
}