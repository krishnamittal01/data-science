{
  "nbformat": 4,
  "nbformat_minor": 0,
  "metadata": {
    "colab": {
      "provenance": [],
      "authorship_tag": "ABX9TyPo66RmBAqyr37qb2pDf2kA",
      "include_colab_link": true
    },
    "kernelspec": {
      "name": "python3",
      "display_name": "Python 3"
    },
    "language_info": {
      "name": "python"
    }
  },
  "cells": [
    {
      "cell_type": "markdown",
      "metadata": {
        "id": "view-in-github",
        "colab_type": "text"
      },
      "source": [
        "<a href=\"https://colab.research.google.com/github/krishnamittal01/data-science/blob/main/Complete_Python_Assignment.ipynb\" target=\"_parent\"><img src=\"https://colab.research.google.com/assets/colab-badge.svg\" alt=\"Open In Colab\"/></a>"
      ]
    },
    {
      "cell_type": "markdown",
      "source": [
        "***COMPLETE PYTHON ASSIGNMENT OF ALL TOPICS BY KRISH NAIK***"
      ],
      "metadata": {
        "id": "eY86tWm9L3A4"
      }
    },
    {
      "cell_type": "markdown",
      "source": [
        "Topics Covered:\n",
        " • Syntax and Semantics\n",
        " • Variables and Data Types\n",
        " • Basic Operators (Arithmetic, Comparison, Logical)"
      ],
      "metadata": {
        "id": "qP6zVibpMxST"
      }
    },
    {
      "cell_type": "markdown",
      "source": [
        "Question 1: Write a Python program to print \"Hello, World!\""
      ],
      "metadata": {
        "id": "5FbOv2swMYbd"
      }
    },
    {
      "cell_type": "code",
      "source": [
        "print(\"hello\")"
      ],
      "metadata": {
        "colab": {
          "base_uri": "https://localhost:8080/"
        },
        "id": "M6jeTyOPM1mZ",
        "outputId": "3d2543a1-a5b0-48bc-94c6-bc1fc49265b3"
      },
      "execution_count": 1,
      "outputs": [
        {
          "output_type": "stream",
          "name": "stdout",
          "text": [
            "hello\n"
          ]
        }
      ]
    },
    {
      "cell_type": "markdown",
      "source": [
        "Question 2: Write a Python program that takes a user input and prints it"
      ],
      "metadata": {
        "id": "Z-08MiW1M5Ff"
      }
    },
    {
      "cell_type": "code",
      "source": [
        "a=input(\"Enter your input\")\n",
        "print(a)"
      ],
      "metadata": {
        "colab": {
          "base_uri": "https://localhost:8080/"
        },
        "id": "M2ggANzKM83M",
        "outputId": "cceae1cb-d3d1-4475-ae7f-0dabb311c45a"
      },
      "execution_count": 2,
      "outputs": [
        {
          "output_type": "stream",
          "name": "stdout",
          "text": [
            "Enter your inputMy self krishna and i'll be a al engenieeer one day\n",
            "My self krishna and i'll be a al engenieeer one day\n"
          ]
        }
      ]
    },
    {
      "cell_type": "markdown",
      "source": [
        " Question 3: Write a Python program to check if a number is positive, negative,\n",
        " or zero."
      ],
      "metadata": {
        "id": "Iak_z0jsNNYK"
      }
    },
    {
      "cell_type": "code",
      "source": [
        "a=int(input(\"enter any number\"))\n",
        "if a>0 :\n",
        "  print(\"Number entered is +ve\")\n",
        "elif a<0:\n",
        "  print(\"Number entered is -ve\")\n",
        "elif a==0:\n",
        "  print(\"Number entered is Zero\")\n"
      ],
      "metadata": {
        "colab": {
          "base_uri": "https://localhost:8080/"
        },
        "id": "0c7N3lY2NSs_",
        "outputId": "a1a388b3-4fae-47fa-c046-93d0925e5901"
      },
      "execution_count": 4,
      "outputs": [
        {
          "output_type": "stream",
          "name": "stdout",
          "text": [
            "enter any number5\n",
            "Number entered is +ve\n"
          ]
        }
      ]
    },
    {
      "cell_type": "markdown",
      "source": [
        " Question 4: Write a Python program to find the largest of three numbers."
      ],
      "metadata": {
        "id": "If8LGHvwN-Ne"
      }
    },
    {
      "cell_type": "code",
      "source": [
        "number1=int(input(\"enter first number\"))\n",
        "number2=int(input(\"enter second number\"))\n",
        "number3=int(input(\"enter third number\"))\n",
        "if number1>number2 and number1>number3:\n",
        "  print(\"first number is largest\")\n",
        "elif number2>number1 and number2>number3:\n",
        "  print(\"second number is largest\")\n",
        "else :\n",
        "  print(\"third number is largest\")"
      ],
      "metadata": {
        "colab": {
          "base_uri": "https://localhost:8080/"
        },
        "id": "vcyM8Ca_N571",
        "outputId": "9ee68e34-fdcf-4bc5-88ee-7fe6b19b493a"
      },
      "execution_count": 6,
      "outputs": [
        {
          "output_type": "stream",
          "name": "stdout",
          "text": [
            "enter first number20\n",
            "enter second number5063\n",
            "enter third number523\n",
            "second number is largest\n"
          ]
        }
      ]
    },
    {
      "cell_type": "markdown",
      "source": [
        " Question 5: Write a Python program to calculate the factorial of a number"
      ],
      "metadata": {
        "id": "J-png_GYOa3j"
      }
    },
    {
      "cell_type": "code",
      "source": [
        "a=int(input(\"enter the number of which you wanna find the factorial\"))\n",
        "if a==0:\n",
        "  print(1)\n",
        "else:\n",
        "  fact=1\n",
        "  for i in range(1,a+1):\n",
        "    fact=fact*i\n",
        "  print(fact)\n"
      ],
      "metadata": {
        "colab": {
          "base_uri": "https://localhost:8080/"
        },
        "id": "FUO6paIYOdpd",
        "outputId": "0d8e465f-5b8a-462e-975c-1be9b07855f3"
      },
      "execution_count": 2,
      "outputs": [
        {
          "output_type": "stream",
          "name": "stdout",
          "text": [
            "enter the number of which you wanna find the factorial5\n",
            "120\n"
          ]
        }
      ]
    },
    {
      "cell_type": "markdown",
      "source": [
        " 2. Variables and Data Types"
      ],
      "metadata": {
        "id": "qcp1VJNz04qg"
      }
    },
    {
      "cell_type": "markdown",
      "source": [
        " Question 6: Create variables of different data types: integer, float, string, and\n",
        " boolean. Print their values and types"
      ],
      "metadata": {
        "id": "gW6VJlEH08hT"
      }
    },
    {
      "cell_type": "code",
      "source": [
        "int_var=10\n",
        "float_var=10.5\n",
        "string_var=\"krishna\"\n",
        "boolean_var=True\n",
        "print(f\"int_var value is {int_var} and type is {type(int_var)}\")\n",
        "print(f\"float_var value is {float_var} and type is {type(float_var)}\")\n",
        "print(f\"string_var value is {string_var} and type is {type(string_var)}\")\n",
        "print(f\"boolean_var value is {boolean_var} and type is {type(boolean_var)}\")"
      ],
      "metadata": {
        "colab": {
          "base_uri": "https://localhost:8080/"
        },
        "id": "iEEvQw8Z0-LL",
        "outputId": "8d3078e0-72c3-4ccd-a8b0-28c0e67ac4e5"
      },
      "execution_count": 3,
      "outputs": [
        {
          "output_type": "stream",
          "name": "stdout",
          "text": [
            "int_var value is 10 and type is <class 'int'>\n",
            "float_var value is 10.5 and type is <class 'float'>\n",
            "string_var value is krishna and type is <class 'str'>\n",
            "boolean_var value is True and type is <class 'bool'>\n"
          ]
        }
      ]
    },
    {
      "cell_type": "markdown",
      "source": [
        "Question 7: Write a Python program to swap the values of two variables."
      ],
      "metadata": {
        "id": "Ay3cZc9c1WWh"
      }
    },
    {
      "cell_type": "code",
      "source": [
        "a=20\n",
        "b=30\n",
        "print(f\"before swapping a={a} and b={b}\")\n",
        "a,b=b,a\n",
        "print(f\"after swapping a={a} and b={b}\")"
      ],
      "metadata": {
        "colab": {
          "base_uri": "https://localhost:8080/"
        },
        "id": "Y6JHbVFr1bOG",
        "outputId": "e081dfa5-9b75-42a2-b656-b99a32c53af5"
      },
      "execution_count": 5,
      "outputs": [
        {
          "output_type": "stream",
          "name": "stdout",
          "text": [
            "before swapping a=20 and b=30\n",
            "after swapping a=30 and b=20\n"
          ]
        }
      ]
    },
    {
      "cell_type": "markdown",
      "source": [
        " Question 8: Write a Python program to convert Celsius to Fahrenheit"
      ],
      "metadata": {
        "id": "IKU7x85m12rl"
      }
    },
    {
      "cell_type": "code",
      "source": [
        "celcious=int(input(\"Enter the temprature in celious\"))\n",
        "farenhite=(celcious*9/5)+32\n",
        "print(f\"Temprature in farenhite is {farenhite}\")"
      ],
      "metadata": {
        "colab": {
          "base_uri": "https://localhost:8080/"
        },
        "id": "Qa228fIP14qA",
        "outputId": "5d10cac4-f4ef-4666-9800-91f429a8c6a5"
      },
      "execution_count": 1,
      "outputs": [
        {
          "output_type": "stream",
          "name": "stdout",
          "text": [
            "Enter the temprature in celious50\n",
            "Temprature in farenhite is 122.0\n"
          ]
        }
      ]
    },
    {
      "cell_type": "markdown",
      "source": [
        "Question 9: Write a Python program to concatenate two strings."
      ],
      "metadata": {
        "id": "3YsSFF3JcvP1"
      }
    },
    {
      "cell_type": "code",
      "source": [
        "a=\"s\"\n",
        "b=\"m\"\n",
        "print(a+b)"
      ],
      "metadata": {
        "colab": {
          "base_uri": "https://localhost:8080/"
        },
        "id": "sTvj-dnecw2g",
        "outputId": "bf505536-bc80-4885-ea47-9cef6fc901e6"
      },
      "execution_count": 2,
      "outputs": [
        {
          "output_type": "stream",
          "name": "stdout",
          "text": [
            "sm\n"
          ]
        }
      ]
    },
    {
      "cell_type": "markdown",
      "source": [
        "Question 10: Write a Python program to check if a variable is of a specific\n",
        " data type."
      ],
      "metadata": {
        "id": "kG0BefYgc-3V"
      }
    },
    {
      "cell_type": "code",
      "source": [
        " variable = 10.5\n",
        " if isinstance(variable, float):\n",
        "  print(f\"{variable} is a float\")\n",
        " else:\n",
        "  print(f\"{variable} is not a float\")"
      ],
      "metadata": {
        "colab": {
          "base_uri": "https://localhost:8080/"
        },
        "id": "BbjUIL7xdieM",
        "outputId": "5d4bd891-f80b-435a-a11f-87e69fae9032"
      },
      "execution_count": 5,
      "outputs": [
        {
          "output_type": "stream",
          "name": "stdout",
          "text": [
            "10.5 is a float\n"
          ]
        }
      ]
    },
    {
      "cell_type": "markdown",
      "source": [
        "3. Basic Operators (Arithmetic, Comparison, Logical"
      ],
      "metadata": {
        "id": "rcNxkt3zeFDd"
      }
    },
    {
      "cell_type": "markdown",
      "source": [
        " Question 11: Write a Python program to perform arithmetic operations:\n",
        " addition, subtraction, multiplication, and division."
      ],
      "metadata": {
        "id": "ZOd3oQp_eLwl"
      }
    },
    {
      "cell_type": "code",
      "source": [
        "a=25\n",
        "b=85\n",
        "adding=a+b\n",
        "multiplication=a*b\n",
        "division=a/b\n",
        "subtraction=a-b\n",
        "print(f\"addition of a and b is {adding}\")\n",
        "print(f\"subtraction of a and b is {subtraction}\")\n",
        "print(f\"division of a and b is {division}\")\n",
        "print(f\"multiplication of a and b is {multiplication}\")"
      ],
      "metadata": {
        "colab": {
          "base_uri": "https://localhost:8080/"
        },
        "id": "82N9YcQJeHlm",
        "outputId": "705ae66d-4f8b-482e-c5e8-5f4862d02921"
      },
      "execution_count": 6,
      "outputs": [
        {
          "output_type": "stream",
          "name": "stdout",
          "text": [
            "addition of a and b is 110\n",
            "subtraction of a and b is -60\n",
            "division of a and b is 0.29411764705882354\n",
            "multiplication of a and b is 2125\n"
          ]
        }
      ]
    },
    {
      "cell_type": "markdown",
      "source": [
        " Question 12: Write a Python program to demonstrate comparison operators:\n",
        " equal to, not equal to, greater than, less than"
      ],
      "metadata": {
        "id": "IOU5XCgTg9wx"
      }
    },
    {
      "cell_type": "code",
      "source": [
        " a = 5\n",
        " b = 3\n",
        " print(f\"{a} == {b}: {a == b}\")\n",
        " print(f\"{a} != {b}: {a != b}\")\n",
        " print(f\"{a} > {b}: {a > b}\")\n",
        " print(f\"{a} < {b}: {a < b}\")"
      ],
      "metadata": {
        "colab": {
          "base_uri": "https://localhost:8080/"
        },
        "id": "jNUfKgzvg_eq",
        "outputId": "56721103-dd2d-415a-c7d0-a95104161c56"
      },
      "execution_count": 7,
      "outputs": [
        {
          "output_type": "stream",
          "name": "stdout",
          "text": [
            "5 == 3: False\n",
            "5 != 3: True\n",
            "5 > 3: True\n",
            "5 < 3: False\n"
          ]
        }
      ]
    },
    {
      "cell_type": "markdown",
      "source": [
        " Question 13: Write a Python program to demonstrate logical operators: and,\n",
        " or, not."
      ],
      "metadata": {
        "id": "JIEAR-JlhHO2"
      }
    },
    {
      "cell_type": "code",
      "source": [
        " a = True\n",
        " b = False\n",
        " print(f\"True and False: {a and b}\")\n",
        " print(f\"True or False: {a or b}\")\n",
        " print(f\"not True: {not a}\")"
      ],
      "metadata": {
        "colab": {
          "base_uri": "https://localhost:8080/"
        },
        "id": "HyPet4R2hLJf",
        "outputId": "f0c7c212-682a-4338-9791-879aaa4c4265"
      },
      "execution_count": 8,
      "outputs": [
        {
          "output_type": "stream",
          "name": "stdout",
          "text": [
            "True and False: False\n",
            "True or False: True\n",
            "not True: False\n"
          ]
        }
      ]
    },
    {
      "cell_type": "markdown",
      "source": [
        "Question 14: Write a Python program to calculate the square of a number"
      ],
      "metadata": {
        "id": "a1WH_oSEhjTk"
      }
    },
    {
      "cell_type": "code",
      "source": [
        " num = float(input(\"Enter a number: \"))\n",
        " square = num ** 2\n",
        " print(f\"The square of {num} is {square}\")"
      ],
      "metadata": {
        "colab": {
          "base_uri": "https://localhost:8080/"
        },
        "id": "5zXv6p9Zhkwg",
        "outputId": "ba20c547-93da-47e3-a91f-d2502e8c8936"
      },
      "execution_count": 9,
      "outputs": [
        {
          "output_type": "stream",
          "name": "stdout",
          "text": [
            "Enter a number: 5\n",
            "The square of 5.0 is 25.0\n"
          ]
        }
      ]
    },
    {
      "cell_type": "markdown",
      "source": [
        " Question 15: Write a Python program to check if a number is even or odd."
      ],
      "metadata": {
        "id": "4_yAoiX0h41y"
      }
    },
    {
      "cell_type": "code",
      "source": [
        " num = int(input(\"Enter a number: \"))\n",
        " if num % 2 == 0:\n",
        "  print(f\"{num} is even.\")\n",
        " else:\n",
        "  print(f\"{num} is odd.\")"
      ],
      "metadata": {
        "colab": {
          "base_uri": "https://localhost:8080/"
        },
        "id": "u9BwaL-hh6Ny",
        "outputId": "f22c025a-3833-4753-caf7-d9685e63f199"
      },
      "execution_count": 11,
      "outputs": [
        {
          "output_type": "stream",
          "name": "stdout",
          "text": [
            "Enter a number: 5\n",
            "5 is odd.\n"
          ]
        }
      ]
    },
    {
      "cell_type": "markdown",
      "source": [
        " Question 16: Write a Python program to find the sum of the first n natural\n",
        " numbers."
      ],
      "metadata": {
        "id": "pa0Dgd3OiDrp"
      }
    },
    {
      "cell_type": "code",
      "source": [
        " n = int(input(\"Enter a number: \"))\n",
        " sum_n = (n * (n + 1)) // 2\n",
        " print(f\"The sum of the first {n} natural numbers is {sum_n}\")"
      ],
      "metadata": {
        "colab": {
          "base_uri": "https://localhost:8080/"
        },
        "id": "qnCnOp3wiFvI",
        "outputId": "aafb1828-e98c-4458-db09-ea8633bd098d"
      },
      "execution_count": 12,
      "outputs": [
        {
          "output_type": "stream",
          "name": "stdout",
          "text": [
            "Enter a number: 52\n",
            "The sum of the first 52 natural numbers is 1378\n"
          ]
        }
      ]
    },
    {
      "cell_type": "markdown",
      "source": [
        "Question 17: Write a Python program to check if a year is a leap year"
      ],
      "metadata": {
        "id": "cI3z70n9iV9K"
      }
    },
    {
      "cell_type": "code",
      "source": [
        " year = int(input(\"Enter a year: \"))\n",
        " if (year % 4 == 0 and year % 100 != 0) or (year % 400 == 0):\n",
        "  print(f\"{year} is a leap year.\")\n",
        " else:\n",
        "  print(f\"{year} is not a leap year.\")"
      ],
      "metadata": {
        "colab": {
          "base_uri": "https://localhost:8080/"
        },
        "id": "UH4tN_-miYPG",
        "outputId": "c4ab88cf-887d-4b77-f8b5-a31eb106b63a"
      },
      "execution_count": 13,
      "outputs": [
        {
          "output_type": "stream",
          "name": "stdout",
          "text": [
            "Enter a year: 2005\n",
            "2005 is not a leap year.\n"
          ]
        }
      ]
    },
    {
      "cell_type": "markdown",
      "source": [
        "Question 18: Write a Python program to reverse a string"
      ],
      "metadata": {
        "id": "buqz3RYwigIe"
      }
    },
    {
      "cell_type": "code",
      "source": [
        " string = input(\"Enter a string: \")\n",
        " reversed_string = string[::-1]\n",
        " print(f\"The reversed string is: {reversed_string}\")"
      ],
      "metadata": {
        "colab": {
          "base_uri": "https://localhost:8080/"
        },
        "id": "YuHYQseuija_",
        "outputId": "94450835-f1e4-4325-8486-9284650bb039"
      },
      "execution_count": 14,
      "outputs": [
        {
          "output_type": "stream",
          "name": "stdout",
          "text": [
            "Enter a string: krishna\n",
            "The reversed string is: anhsirk\n"
          ]
        }
      ]
    },
    {
      "cell_type": "markdown",
      "source": [
        "Question 19: Write a Python program to check if a string is a palindrome."
      ],
      "metadata": {
        "id": "yUR88LdGipsY"
      }
    },
    {
      "cell_type": "code",
      "source": [
        "a=input(\"Enter the word which you wana check that the number is palindrom or not\")\n",
        "if a==a[::-1]:\n",
        "  print(\"The word is palindrom\")\n",
        "else:\n",
        "  print(\"the word is not palindrom \")"
      ],
      "metadata": {
        "colab": {
          "base_uri": "https://localhost:8080/"
        },
        "id": "VQ2zDEYziq5c",
        "outputId": "b841fe4e-38fc-4cdb-cffb-81557598ed19"
      },
      "execution_count": 16,
      "outputs": [
        {
          "output_type": "stream",
          "name": "stdout",
          "text": [
            "Enter the number which you wana check that the number is palindrom or notama\n",
            "The number is palindrom\n"
          ]
        }
      ]
    },
    {
      "cell_type": "markdown",
      "source": [
        "Question 20: Write a Python program to sort a list of numbers in ascending\n",
        " order."
      ],
      "metadata": {
        "id": "CxJ-6o3Wixr5"
      }
    },
    {
      "cell_type": "code",
      "source": [
        " numbers = [int(x) for x in input(\"Enter numbers separated by space: \").split()]\n",
        " numbers.sort()\n",
        " print(f\"Sorted list: {numbers}\")"
      ],
      "metadata": {
        "colab": {
          "base_uri": "https://localhost:8080/"
        },
        "id": "VgXhga0uizGf",
        "outputId": "16e13fd1-e96d-4f96-9d39-44780bb4630a"
      },
      "execution_count": 15,
      "outputs": [
        {
          "output_type": "stream",
          "name": "stdout",
          "text": [
            "Enter numbers separated by space: 10 20 3 0 2 \n",
            "Sorted list: [0, 2, 3, 10, 20]\n"
          ]
        }
      ]
    },
    {
      "cell_type": "code",
      "source": [],
      "metadata": {
        "id": "8g_EoSOe0m-l"
      },
      "execution_count": null,
      "outputs": []
    }
  ]
}